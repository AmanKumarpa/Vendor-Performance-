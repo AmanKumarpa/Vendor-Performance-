{
 "cells": [
  {
   "cell_type": "code",
   "execution_count": 1,
   "id": "2e690a92-d296-479c-82de-8b0550bad740",
   "metadata": {},
   "outputs": [],
   "source": [
    "import pandas as pd\n",
    "from sqlalchemy import create_engine\n",
    "import os\n",
    "import sqlite3"
   ]
  },
  {
   "cell_type": "code",
   "execution_count": 2,
   "id": "77aa9828-15ee-4658-bc80-fb11a0f78efc",
   "metadata": {},
   "outputs": [],
   "source": [
    "creates = create_engine(\"sqlite:///shops.db\")\n",
    "db_path = \"shops.db\""
   ]
  },
  {
   "cell_type": "code",
   "execution_count": null,
   "id": "c6620f4c-b61f-4a06-bcaf-2c7754213886",
   "metadata": {},
   "outputs": [
    {
     "name": "stdout",
     "output_type": "stream",
     "text": [
      "(206529, 9)\n",
      "(224489, 9)\n",
      "(2372474, 16)\n",
      "(12261, 9)\n"
     ]
    }
   ],
   "source": [
    "def ingest_db(file_path, table_name, engine):\n",
    "    df = pd.read_csv(file_path)\n",
    "    df.to_sql(table_name, con=creates, if_exists=\"replace\", index=False)\n",
    "    print(df.shape)\n",
    "\n",
    "data_folder = \"C:/Users/amanp/Downloads/data/data/\"\n",
    "for file in os.listdir(data_folder):\n",
    "    if file.endswith('.csv'):\n",
    "        file_path = os.path.join(data_folder, file)\n",
    "        table_name = os.path.splitext(file)[0]  # Removes .csv extension\n",
    "        ingest_db(file_path, table_name, creates)\n",
    "\n"
   ]
  },
  {
   "cell_type": "code",
   "execution_count": null,
   "id": "0d1cae49-2dee-4fa7-81b8-8104590782e7",
   "metadata": {},
   "outputs": [],
   "source": [
    "conn = sqlite3.connect(\"shops.db\")\n",
    "tables = pd.read_sql_query(\"SELECT name FROM sqlite_master where type='table'\", conn)\n",
    "print(tables)\n"
   ]
  },
  {
   "cell_type": "code",
   "execution_count": null,
   "id": "cbc4c30b-d373-4a0f-9fa7-43ff3667856a",
   "metadata": {},
   "outputs": [],
   "source": [
    "for table in tables[\"name\"]:\n",
    "    print(\"-\"*30, f'{table}','-'*50)\n",
    "    print(pd.read_sql_query(f\"SELECT count(*) FROM  {table} limit 5\",conn))\n",
    "    display(pd.read_sql_query(f\"SELECT * FROM  {table} limit 5\",conn))"
   ]
  },
  {
   "cell_type": "code",
   "execution_count": null,
   "id": "3e0fafc9-a937-4775-9576-d2794f459931",
   "metadata": {},
   "outputs": [],
   "source": [
    "purchases = pd.read_sql(\"select * from purchases where VendorNumber = 4466\",conn)\n",
    "purchases"
   ]
  },
  {
   "cell_type": "code",
   "execution_count": null,
   "id": "c9c5be58-0956-473f-a102-ae3c40631db6",
   "metadata": {},
   "outputs": [],
   "source": [
    "purchase_prices = pd.read_sql(\"select * from purchase_prices where VendorNumber = 4466 \" ,conn)\n",
    "purchase_prices\n"
   ]
  },
  {
   "cell_type": "code",
   "execution_count": null,
   "id": "81b3581d-abfd-48b4-bc58-6ed55faec11a",
   "metadata": {},
   "outputs": [],
   "source": [
    "vendor_invoice = pd.read_sql(\"select * from vendor_invoice where VendorNumber = 4466\", conn)\n",
    "vendor_invoice"
   ]
  },
  {
   "cell_type": "code",
   "execution_count": null,
   "id": "4043b81f-9d33-4f58-9b25-d6bb726cf6f1",
   "metadata": {},
   "outputs": [],
   "source": [
    "sales = pd.read_sql(\"select * from sales where vendorNo = 4466\",conn)\n",
    "sales"
   ]
  },
  {
   "cell_type": "code",
   "execution_count": null,
   "id": "db965607-7016-4bad-83e0-3b1cc1d5562d",
   "metadata": {},
   "outputs": [],
   "source": [
    "purchases"
   ]
  },
  {
   "cell_type": "code",
   "execution_count": null,
   "id": "17d8e0cd-36e7-4211-a593-b6e9bdd72d83",
   "metadata": {},
   "outputs": [],
   "source": [
    "purchases.groupby([\"Brand\",\"PurchasePrice\"])[[\"Quantity\",\"Dollars\"]].sum()"
   ]
  },
  {
   "cell_type": "code",
   "execution_count": null,
   "id": "d764dbc0-6766-49d8-aa92-4fd5d686dbed",
   "metadata": {},
   "outputs": [],
   "source": [
    "purchase_prices"
   ]
  },
  {
   "cell_type": "code",
   "execution_count": null,
   "id": "453656d5-e33e-4186-adfa-d01ab6137ba7",
   "metadata": {},
   "outputs": [],
   "source": [
    "vendor_invoice[\"PONumber\"].nunique()"
   ]
  },
  {
   "cell_type": "code",
   "execution_count": null,
   "id": "b6c02fe6-354d-434d-b020-80128d8d54b8",
   "metadata": {},
   "outputs": [],
   "source": [
    "vendor_invoice"
   ]
  },
  {
   "cell_type": "code",
   "execution_count": null,
   "id": "da64a5e7-8814-43f5-a9dd-963a49abf321",
   "metadata": {},
   "outputs": [],
   "source": [
    "vendor_invoice[\"VendorName\"]"
   ]
  },
  {
   "cell_type": "code",
   "execution_count": null,
   "id": "a8d583fe-340b-4407-8208-061850f09d60",
   "metadata": {},
   "outputs": [],
   "source": [
    "sales.groupby(\"Brand\")[[\"SalesDollars\", \"SalesPrice\", \"SalesQuantity\"]].sum()"
   ]
  },
  {
   "cell_type": "markdown",
   "id": "8beb7c2e-d47b-43f6-8f2e-2c14e8fedefa",
   "metadata": {},
   "source": [
    "*   The purchases table contains actual purchase data, including the date of purchase, products (brands) purchased by vendors, the amount paid (in dollars), and the quantity purchased.\n",
    "*   The purchase_price column is derived from the purchase_prices table, which provides product-wise actual and purchase prices. The combination of vendor and brand is unique in this table.\n",
    "*   The vendor_invoice table aggregates data from the purchases table, summarizing quantity and dollar amounts, along with an additional column for freight. This table maintains uniqueness based on vendor and PO number.\n",
    "*   The sales table captures actual sales transactions, detailing the brands purchased by vendors, the quantity sold, the selling price, and the revenue earned.\n",
    "___________________________________________________________________________________________\n",
    "As the data that we need for analysis is distributed in different tables, we need to create a summary table containing:\n",
    "\n",
    "*   purchase transactions made by vendors\n",
    "*   sales transaction data\n",
    "*   freight costs for each vendor\n",
    "*   actual product prices from vendors\n",
    "\n"
   ]
  },
  {
   "cell_type": "code",
   "execution_count": null,
   "id": "e33b7a6d-2e2e-4aeb-90fe-92a91f5e8f1b",
   "metadata": {},
   "outputs": [],
   "source": [
    "vendor_invoice.columns"
   ]
  },
  {
   "cell_type": "code",
   "execution_count": null,
   "id": "211d2229-a277-4147-b031-10878d210710",
   "metadata": {},
   "outputs": [],
   "source": [
    "vendor_invoice[\"PONumber\"]"
   ]
  },
  {
   "cell_type": "code",
   "execution_count": null,
   "id": "f3eeda41-c037-4341-ac56-651e4a00aadf",
   "metadata": {},
   "outputs": [],
   "source": [
    "freight_summary = pd.read_sql_query(\"\"\"select vendorNumber, sum(Freight) as FreightCost from vendor_invoice\n",
    "                                    group by VendorNumber\"\"\", conn)\n",
    "freight_summary"
   ]
  },
  {
   "cell_type": "code",
   "execution_count": null,
   "id": "2ce812ca-f8b6-4588-8bf0-e26729f69a6c",
   "metadata": {},
   "outputs": [],
   "source": [
    "purchases.columns"
   ]
  },
  {
   "cell_type": "code",
   "execution_count": null,
   "id": "9111837e-e40e-491e-b95f-6bf688497354",
   "metadata": {},
   "outputs": [],
   "source": [
    "purchase_prices.columns"
   ]
  },
  {
   "cell_type": "code",
   "execution_count": null,
   "id": "277119c3-13fd-45f3-87c5-97f1d2dde711",
   "metadata": {},
   "outputs": [],
   "source": [
    "pd.read_sql(\"\"\"select\n",
    "   p.VendorNumber,\n",
    "   p.VendorName,\n",
    "   P.Brand,\n",
    "   p.PurchasePrice,\n",
    "   pp.Volume,\n",
    "   pp.Price as ActualPrice,\n",
    "   sum(p.Quantity) as TotalPurchaseQuantity,\n",
    "   sum(p.Dollars) as TotalPurchaseDollars\n",
    "   from purchases as p\n",
    "   join purchase_prices as pp\n",
    "   on p.Brand = pp.Brand\n",
    "   group by p.VendorNumber , p.VendorName, p.Brand\n",
    "   having p.PurchasePrice > 0\n",
    "   order by TotalPurchaseDollars\"\"\", conn)"
   ]
  },
  {
   "cell_type": "code",
   "execution_count": null,
   "id": "c197b5f8-1628-434b-b83e-437b21363d16",
   "metadata": {},
   "outputs": [],
   "source": [
    "sales.columns\n",
    "sales"
   ]
  },
  {
   "cell_type": "code",
   "execution_count": null,
   "id": "8a138ff6-47f7-4b86-b38c-7858e49dd39c",
   "metadata": {},
   "outputs": [],
   "source": [
    "Sales_Data = pd.read_sql(\"\"\"select\n",
    "   VendorNo,  \n",
    "   Brand,\n",
    "   sum(SalesDollars) as TotalSalesDollars,\n",
    "   sum(SalesPrice) as TotalSalesPrice,\n",
    "   sum(SalesQuantity) as TotalSalesQuantity,\n",
    "   sum(ExciseTax) as TotalExciseTax\n",
    "   from sales\n",
    "   group by VendorNo, Brand\n",
    "   order by VendorNo asc\"\"\", conn);\n",
    "Sales_Data"
   ]
  },
  {
   "cell_type": "code",
   "execution_count": null,
   "id": "6e6b957b-b0d4-487f-834c-b4bdb9bc271e",
   "metadata": {},
   "outputs": [],
   "source": [
    "import time"
   ]
  },
  {
   "cell_type": "code",
   "execution_count": null,
   "id": "4fadb2ed-5dc0-409e-9f59-96a747970bf1",
   "metadata": {},
   "outputs": [],
   "source": []
  },
  {
   "cell_type": "code",
   "execution_count": null,
   "id": "f4083038-aa68-4bcd-b8c7-7416b1d0a04f",
   "metadata": {},
   "outputs": [],
   "source": []
  },
  {
   "cell_type": "code",
   "execution_count": null,
   "id": "3715d8bf-a947-4a27-8f1d-be2ae1086e13",
   "metadata": {},
   "outputs": [],
   "source": [
    "vendor_sales_summary = pd.read_sql(\"\"\"WITH FreightSummary as (\n",
    "    select\n",
    "        VendorNumber,\n",
    "        sum(Freight) as FreightCost\n",
    "    From\n",
    "        Vendor_invoice \n",
    "    Group by\n",
    "        VendorNumber\n",
    "),\n",
    "\n",
    "PurchaseSummary as( \n",
    "   select\n",
    "       p.VendorNumber,\n",
    "       p.VendorName,\n",
    "       p.Brand,\n",
    "       p.Description,\n",
    "       p.PurchasePrice,\n",
    "       pp.Price as ActualPrice,\n",
    "       pp.Volume,\n",
    "       sum(p.Quantity) as TotalPurchaseQuantity,\n",
    "       sum(p.Dollars) as TotalPurchaseDollars\n",
    "   from\n",
    "       purchases as p\n",
    "   join\n",
    "       purchase_prices as pp on p.Brand = pp.Brand\n",
    "   where\n",
    "       p.PurchasePrice > 0\n",
    "   group by\n",
    "       p.VendorNumber, p.VendorName, p.Brand, p.Description, p.PurchasePrice, pp.Price, pp.Volume\n",
    "),\n",
    "\n",
    "SalesSummary as (\n",
    "    select\n",
    "       VendorNo,\n",
    "       Brand,\n",
    "       sum(SalesDollars) as TotalSalesDollars,\n",
    "       sum(SalesPrice) as TotalSalesPrice,\n",
    "       sum(SalesQuantity) as TotalSalesQuantity,\n",
    "       sum(ExciseTax) as TotalExciseTax\n",
    "   from\n",
    "       sales\n",
    "   group by\n",
    "       VendorNo, Brand\n",
    ")\n",
    "\n",
    "select\n",
    "    ps.VendorNumber,\n",
    "    ps.VendorName,\n",
    "    ps.Brand,\n",
    "    ps.Description,\n",
    "    ps.ActualPrice,\n",
    "    ps.Volume,\n",
    "    ps.TotalPurchaseQuantity,\n",
    "    ps.TotalPurchaseDollars,\n",
    "    ss.TotalSalesQuantity,  \n",
    "    ss.TotalSalesDollars,    \n",
    "    ss.TotalSalesPrice,    \n",
    "    ss.TotalExciseTax,       \n",
    "    fs.FreightCost\n",
    "from\n",
    "    PurchaseSummary as ps \n",
    "    \n",
    "    SalesSummary as ss on ps.VendorNumber = ss.VendorNo AND ps.Brand = ss.Brand\n",
    "left join\n",
    "    FreightSummary as fs on ps.VendorNumber = fs.VendorNumber\n",
    "order by\n",
    "    ps.TotalPurchaseDollars asc \"\"\", conn)\n",
    "\n"
   ]
  },
  {
   "cell_type": "code",
   "execution_count": null,
   "id": "b5f2ce72-f828-4c61-b076-4ae0179c47bc",
   "metadata": {},
   "outputs": [],
   "source": [
    "vendor_sales_summary"
   ]
  },
  {
   "cell_type": "markdown",
   "id": "e63b6c40-c497-4c13-ada7-a23f2580da44",
   "metadata": {},
   "source": [
    "This query generates a vendor-wise sales and purchase summary, which is valuable for:\n",
    "\n",
    "**Performance Optimization:**\n",
    "<br>\n",
    "<b>.</b> The query involves heavy joins and aggregations on large datasets like sales and purchases.</br>\n",
    "<b>.</b> Storing the pre-aggregated reults avoids repeated expensive computations.</br>\n",
    "**.** Helps in analyzing sales,purchases,and pricing for different vendors and brands.</br>\n",
    "**.** Future Benefits of storing this data for faster Dashboarding & Reporting.</br>\n",
    "**.** Instead of running expensive queries each time,dashboards can fetch data quickly from vendor_sales_summary.\n"
   ]
  },
  {
   "cell_type": "code",
   "execution_count": null,
   "id": "99093075-c9e1-4622-8149-f7222eca2765",
   "metadata": {},
   "outputs": [],
   "source": [
    "vendor_sales_summary.dtypes"
   ]
  },
  {
   "cell_type": "code",
   "execution_count": null,
   "id": "c684ab00-6e3b-47b4-be0b-45e206dcdcaf",
   "metadata": {},
   "outputs": [],
   "source": [
    "vendor_sales_summary.isnull().sum()"
   ]
  },
  {
   "cell_type": "code",
   "execution_count": null,
   "id": "84b851b2-7726-4649-af46-a7721539adc9",
   "metadata": {},
   "outputs": [],
   "source": [
    "vendor_sales_summary.head()"
   ]
  },
  {
   "cell_type": "code",
   "execution_count": null,
   "id": "37cb0695-023a-4029-9971-5e63b7af8899",
   "metadata": {},
   "outputs": [],
   "source": [
    "vendor_sales_summary[\"VendorName\"]"
   ]
  },
  {
   "cell_type": "code",
   "execution_count": null,
   "id": "c35b31a1-f2cd-4f4e-bdc3-9017c9eab43e",
   "metadata": {},
   "outputs": [],
   "source": [
    "vendor_sales_summary[\"VendorName\"].str.strip()\n",
    "vendor_sales_summary[\"Description\"].str.strip()"
   ]
  },
  {
   "cell_type": "code",
   "execution_count": null,
   "id": "820989da-64c6-4bc4-a4c7-76feaa60d214",
   "metadata": {},
   "outputs": [],
   "source": [
    "vendor_sales_summary[\"Volume\"] = vendor_sales_summary[\"Volume\"].astype('float64')"
   ]
  },
  {
   "cell_type": "code",
   "execution_count": null,
   "id": "d9b82920-9e17-4638-97c7-2fa262182d33",
   "metadata": {},
   "outputs": [],
   "source": [
    "vendor_sales_summary[\"Volume\"]"
   ]
  },
  {
   "cell_type": "code",
   "execution_count": null,
   "id": "66bff3f6-7a37-42e2-a158-70d9e04f67f5",
   "metadata": {},
   "outputs": [],
   "source": [
    "vendor_sales_summary.dtypes"
   ]
  },
  {
   "cell_type": "code",
   "execution_count": null,
   "id": "3cdd7a39-b481-4d2e-ba1c-b9f411fdf930",
   "metadata": {},
   "outputs": [],
   "source": [
    "vendor_sales_summary.fillna(0, inplace = True)"
   ]
  },
  {
   "cell_type": "code",
   "execution_count": null,
   "id": "042f4a38-e011-460a-9a20-839def1b43c8",
   "metadata": {},
   "outputs": [],
   "source": [
    "vendor_sales_summary[\"GrossProfit\"] = vendor_sales_summary[\"TotalSalesDollars\"] - vendor_sales_summary[\"TotalPurchaseDollars\"]"
   ]
  },
  {
   "cell_type": "code",
   "execution_count": null,
   "id": "ae5c89db-b40e-4670-9638-6adecbe000f4",
   "metadata": {},
   "outputs": [],
   "source": [
    "vendor_sales_summary[\"ProfitMargin\"] = (vendor_sales_summary[\"GrossProfit\"] / vendor_sales_summary[\"TotalSalesDollars\"])*100"
   ]
  },
  {
   "cell_type": "code",
   "execution_count": null,
   "id": "84754f9f-a527-4930-89f1-08984a3f54c4",
   "metadata": {},
   "outputs": [],
   "source": [
    "vendor_sales_summary[\"StockTurnover\"] = vendor_sales_summary[\"TotalSalesQuantity\"]/vendor_sales_summary[\"TotalPurchaseQuantity\"]"
   ]
  },
  {
   "cell_type": "code",
   "execution_count": null,
   "id": "66149346-26f6-4932-95c4-96ace164e91f",
   "metadata": {},
   "outputs": [],
   "source": [
    "vendor_sales_summary[\"SalestoPurchaseRatio\"] = vendor_sales_summary[\"TotalSalesDollars\"]/vendor_sales_summary[\"TotalPurchaseDollars\"]"
   ]
  },
  {
   "cell_type": "code",
   "execution_count": null,
   "id": "4b82b892-f6e3-4f13-af02-8bd3d53e00a5",
   "metadata": {},
   "outputs": [],
   "source": [
    "vendor_sales_summary"
   ]
  },
  {
   "cell_type": "code",
   "execution_count": null,
   "id": "1bebf671-dd75-4b22-831d-9abf53718cc0",
   "metadata": {},
   "outputs": [],
   "source": [
    "cursor = conn.cursor()"
   ]
  },
  {
   "cell_type": "code",
   "execution_count": null,
   "id": "ddcffefa-7513-476b-9c5d-339603ba9431",
   "metadata": {},
   "outputs": [],
   "source": [
    "vendor_sales_summary.columns"
   ]
  },
  {
   "cell_type": "code",
   "execution_count": null,
   "id": "74040480-0897-47cd-928e-cbb0b2a86967",
   "metadata": {},
   "outputs": [],
   "source": [
    "cursor.execute(\"\"\"create table vendor_sales_summary (\n",
    "       VendorNumber int,\n",
    "       VendorName varchar(100),\n",
    "       Brand int,\n",
    "       Description varchar(100),\n",
    "       ActualPrice decimal(10,2),\n",
    "       Volume ,\n",
    "       TotalPurchaseQuantity int,\n",
    "       TotalPurchaseDollars decimal(15,2),\n",
    "       TotalSalesQuantity int,\n",
    "       TotalSalesDollars decimal(15,2),\n",
    "       TotalSalesPrice decimal(15,2),\n",
    "       TotalExciseTax decimal(15,2),\n",
    "       FreightCost decimal(15,2),\n",
    "       GrossProfit decimal(15,2),\n",
    "       ProfitMargin decimal(15,2),\n",
    "       StockTurnover decimal(15,2),\n",
    "       SaleestoPurchaseRatio decimal(15,2),\n",
    "       SalestoPurchaseRatio decimal(15,2),\n",
    "       primary key (VendorNumber, Brand)\n",
    "       );\"\"\")\n"
   ]
  },
  {
   "cell_type": "code",
   "execution_count": null,
   "id": "565dca6a-6c11-48af-9687-618dace2d2b2",
   "metadata": {},
   "outputs": [],
   "source": [
    "pd.read_sql_query(\"select * from vendor_sales_summary\",conn)"
   ]
  },
  {
   "cell_type": "code",
   "execution_count": null,
   "id": "afc40030-0ed1-4010-8af0-b370540fb98f",
   "metadata": {},
   "outputs": [],
   "source": [
    "vendor_sales_summary.to_sql(\"vendor_sales_summary\",conn, if_exists='replace', index = False)"
   ]
  },
  {
   "cell_type": "code",
   "execution_count": 27,
   "id": "c75cec20-a7e9-47f2-a48c-6fbe07da496e",
   "metadata": {},
   "outputs": [
    {
     "ename": "NameError",
     "evalue": "name 'vendor_sales_summary' is not defined",
     "output_type": "error",
     "traceback": [
      "\u001b[1;31m---------------------------------------------------------------------------\u001b[0m",
      "\u001b[1;31mNameError\u001b[0m                                 Traceback (most recent call last)",
      "Cell \u001b[1;32mIn[27], line 1\u001b[0m\n\u001b[1;32m----> 1\u001b[0m vendor_sales_summary\n",
      "\u001b[1;31mNameError\u001b[0m: name 'vendor_sales_summary' is not defined"
     ]
    }
   ],
   "source": [
    "vendor_sales_summary"
   ]
  },
  {
   "cell_type": "code",
   "execution_count": 28,
   "id": "b6313a32-6eb6-4cbd-9290-faa4a748a8e1",
   "metadata": {},
   "outputs": [
    {
     "data": {
      "text/plain": [
       "<sqlite3.Connection at 0x1f272c9ba60>"
      ]
     },
     "execution_count": 28,
     "metadata": {},
     "output_type": "execute_result"
    }
   ],
   "source": [
    "conn"
   ]
  },
  {
   "cell_type": "code",
   "execution_count": 29,
   "id": "5a5f0271-4a76-4490-839f-5055089cd6eb",
   "metadata": {},
   "outputs": [
    {
     "data": {
      "text/html": [
       "<div>\n",
       "<style scoped>\n",
       "    .dataframe tbody tr th:only-of-type {\n",
       "        vertical-align: middle;\n",
       "    }\n",
       "\n",
       "    .dataframe tbody tr th {\n",
       "        vertical-align: top;\n",
       "    }\n",
       "\n",
       "    .dataframe thead th {\n",
       "        text-align: right;\n",
       "    }\n",
       "</style>\n",
       "<table border=\"1\" class=\"dataframe\">\n",
       "  <thead>\n",
       "    <tr style=\"text-align: right;\">\n",
       "      <th></th>\n",
       "      <th>VendorNumber</th>\n",
       "      <th>VendorName</th>\n",
       "      <th>Brand</th>\n",
       "      <th>Description</th>\n",
       "      <th>ActualPrice</th>\n",
       "      <th>Volume</th>\n",
       "      <th>TotalPurchaseQuantity</th>\n",
       "      <th>TotalPurchaseDollars</th>\n",
       "      <th>TotalSalesQuantity</th>\n",
       "      <th>TotalSalesDollars</th>\n",
       "      <th>TotalSalesPrice</th>\n",
       "      <th>TotalExciseTax</th>\n",
       "      <th>FreightCost</th>\n",
       "      <th>GrossProfit</th>\n",
       "      <th>ProfitMargin</th>\n",
       "      <th>StockTurnover</th>\n",
       "      <th>SaleestoPurchaseRatio</th>\n",
       "      <th>SalestoPurchaseRatio</th>\n",
       "    </tr>\n",
       "  </thead>\n",
       "  <tbody>\n",
       "    <tr>\n",
       "      <th>0</th>\n",
       "      <td>7245</td>\n",
       "      <td>PROXIMO SPIRITS INC.</td>\n",
       "      <td>3065</td>\n",
       "      <td>Three Olives Grape Vodka</td>\n",
       "      <td>0.99</td>\n",
       "      <td>50.0</td>\n",
       "      <td>1</td>\n",
       "      <td>0.71</td>\n",
       "      <td>86.0</td>\n",
       "      <td>85.14</td>\n",
       "      <td>33.66</td>\n",
       "      <td>4.46</td>\n",
       "      <td>38994.78</td>\n",
       "      <td>84.43</td>\n",
       "      <td>99.166079</td>\n",
       "      <td>86.000000</td>\n",
       "      <td>119.915493</td>\n",
       "      <td>119.915493</td>\n",
       "    </tr>\n",
       "    <tr>\n",
       "      <th>1</th>\n",
       "      <td>3960</td>\n",
       "      <td>DIAGEO NORTH AMERICA INC</td>\n",
       "      <td>6127</td>\n",
       "      <td>The Club Strawbry Margarita</td>\n",
       "      <td>1.99</td>\n",
       "      <td>200.0</td>\n",
       "      <td>1</td>\n",
       "      <td>1.47</td>\n",
       "      <td>72.0</td>\n",
       "      <td>143.28</td>\n",
       "      <td>77.61</td>\n",
       "      <td>15.12</td>\n",
       "      <td>257032.07</td>\n",
       "      <td>141.81</td>\n",
       "      <td>98.974037</td>\n",
       "      <td>72.000000</td>\n",
       "      <td>97.469388</td>\n",
       "      <td>97.469388</td>\n",
       "    </tr>\n",
       "    <tr>\n",
       "      <th>2</th>\n",
       "      <td>3924</td>\n",
       "      <td>HEAVEN HILL DISTILLERIES</td>\n",
       "      <td>9123</td>\n",
       "      <td>Deep Eddy Vodka</td>\n",
       "      <td>0.99</td>\n",
       "      <td>50.0</td>\n",
       "      <td>2</td>\n",
       "      <td>1.48</td>\n",
       "      <td>2.0</td>\n",
       "      <td>1.98</td>\n",
       "      <td>0.99</td>\n",
       "      <td>0.10</td>\n",
       "      <td>14069.87</td>\n",
       "      <td>0.50</td>\n",
       "      <td>25.252525</td>\n",
       "      <td>1.000000</td>\n",
       "      <td>1.337838</td>\n",
       "      <td>1.337838</td>\n",
       "    </tr>\n",
       "    <tr>\n",
       "      <th>3</th>\n",
       "      <td>8004</td>\n",
       "      <td>SAZERAC CO INC</td>\n",
       "      <td>5683</td>\n",
       "      <td>Dr McGillicuddy's Apple Pie</td>\n",
       "      <td>0.49</td>\n",
       "      <td>50.0</td>\n",
       "      <td>6</td>\n",
       "      <td>2.34</td>\n",
       "      <td>134.0</td>\n",
       "      <td>65.66</td>\n",
       "      <td>1.47</td>\n",
       "      <td>7.04</td>\n",
       "      <td>50293.62</td>\n",
       "      <td>63.32</td>\n",
       "      <td>96.436186</td>\n",
       "      <td>22.333333</td>\n",
       "      <td>28.059829</td>\n",
       "      <td>28.059829</td>\n",
       "    </tr>\n",
       "    <tr>\n",
       "      <th>4</th>\n",
       "      <td>9815</td>\n",
       "      <td>WINE GROUP INC</td>\n",
       "      <td>8527</td>\n",
       "      <td>Concannon Glen Ellen Wh Zin</td>\n",
       "      <td>4.99</td>\n",
       "      <td>750.0</td>\n",
       "      <td>2</td>\n",
       "      <td>2.64</td>\n",
       "      <td>5.0</td>\n",
       "      <td>15.95</td>\n",
       "      <td>10.96</td>\n",
       "      <td>0.55</td>\n",
       "      <td>27100.41</td>\n",
       "      <td>13.31</td>\n",
       "      <td>83.448276</td>\n",
       "      <td>2.500000</td>\n",
       "      <td>6.041667</td>\n",
       "      <td>6.041667</td>\n",
       "    </tr>\n",
       "    <tr>\n",
       "      <th>...</th>\n",
       "      <td>...</td>\n",
       "      <td>...</td>\n",
       "      <td>...</td>\n",
       "      <td>...</td>\n",
       "      <td>...</td>\n",
       "      <td>...</td>\n",
       "      <td>...</td>\n",
       "      <td>...</td>\n",
       "      <td>...</td>\n",
       "      <td>...</td>\n",
       "      <td>...</td>\n",
       "      <td>...</td>\n",
       "      <td>...</td>\n",
       "      <td>...</td>\n",
       "      <td>...</td>\n",
       "      <td>...</td>\n",
       "      <td>...</td>\n",
       "      <td>...</td>\n",
       "    </tr>\n",
       "    <tr>\n",
       "      <th>10687</th>\n",
       "      <td>3960</td>\n",
       "      <td>DIAGEO NORTH AMERICA INC</td>\n",
       "      <td>3545</td>\n",
       "      <td>Ketel One Vodka</td>\n",
       "      <td>29.99</td>\n",
       "      <td>1750.0</td>\n",
       "      <td>138109</td>\n",
       "      <td>3023206.01</td>\n",
       "      <td>135838.0</td>\n",
       "      <td>4223107.62</td>\n",
       "      <td>545778.28</td>\n",
       "      <td>249587.83</td>\n",
       "      <td>257032.07</td>\n",
       "      <td>1199901.61</td>\n",
       "      <td>28.412764</td>\n",
       "      <td>0.983556</td>\n",
       "      <td>1.396897</td>\n",
       "      <td>1.396897</td>\n",
       "    </tr>\n",
       "    <tr>\n",
       "      <th>10688</th>\n",
       "      <td>3960</td>\n",
       "      <td>DIAGEO NORTH AMERICA INC</td>\n",
       "      <td>4261</td>\n",
       "      <td>Capt Morgan Spiced Rum</td>\n",
       "      <td>22.99</td>\n",
       "      <td>1750.0</td>\n",
       "      <td>201682</td>\n",
       "      <td>3261197.94</td>\n",
       "      <td>200412.0</td>\n",
       "      <td>4475972.88</td>\n",
       "      <td>420050.01</td>\n",
       "      <td>368242.80</td>\n",
       "      <td>257032.07</td>\n",
       "      <td>1214774.94</td>\n",
       "      <td>27.139908</td>\n",
       "      <td>0.993703</td>\n",
       "      <td>1.372493</td>\n",
       "      <td>1.372493</td>\n",
       "    </tr>\n",
       "    <tr>\n",
       "      <th>10689</th>\n",
       "      <td>17035</td>\n",
       "      <td>PERNOD RICARD USA</td>\n",
       "      <td>8068</td>\n",
       "      <td>Absolut 80 Proof</td>\n",
       "      <td>24.99</td>\n",
       "      <td>1750.0</td>\n",
       "      <td>187407</td>\n",
       "      <td>3418303.68</td>\n",
       "      <td>187140.0</td>\n",
       "      <td>4538120.60</td>\n",
       "      <td>461140.15</td>\n",
       "      <td>343854.07</td>\n",
       "      <td>123780.22</td>\n",
       "      <td>1119816.92</td>\n",
       "      <td>24.675786</td>\n",
       "      <td>0.998575</td>\n",
       "      <td>1.327594</td>\n",
       "      <td>1.327594</td>\n",
       "    </tr>\n",
       "    <tr>\n",
       "      <th>10690</th>\n",
       "      <td>4425</td>\n",
       "      <td>MARTIGNETTI COMPANIES</td>\n",
       "      <td>3405</td>\n",
       "      <td>Tito's Handmade Vodka</td>\n",
       "      <td>28.99</td>\n",
       "      <td>1750.0</td>\n",
       "      <td>164038</td>\n",
       "      <td>3804041.22</td>\n",
       "      <td>160247.0</td>\n",
       "      <td>4819073.49</td>\n",
       "      <td>561512.37</td>\n",
       "      <td>294438.66</td>\n",
       "      <td>144929.24</td>\n",
       "      <td>1015032.27</td>\n",
       "      <td>21.062810</td>\n",
       "      <td>0.976890</td>\n",
       "      <td>1.266830</td>\n",
       "      <td>1.266830</td>\n",
       "    </tr>\n",
       "    <tr>\n",
       "      <th>10691</th>\n",
       "      <td>1128</td>\n",
       "      <td>BROWN-FORMAN CORP</td>\n",
       "      <td>1233</td>\n",
       "      <td>Jack Daniels No 7 Black</td>\n",
       "      <td>36.99</td>\n",
       "      <td>1750.0</td>\n",
       "      <td>145080</td>\n",
       "      <td>3811251.60</td>\n",
       "      <td>142049.0</td>\n",
       "      <td>5101919.51</td>\n",
       "      <td>672819.31</td>\n",
       "      <td>260999.20</td>\n",
       "      <td>68601.68</td>\n",
       "      <td>1290667.91</td>\n",
       "      <td>25.297693</td>\n",
       "      <td>0.979108</td>\n",
       "      <td>1.338647</td>\n",
       "      <td>1.338647</td>\n",
       "    </tr>\n",
       "  </tbody>\n",
       "</table>\n",
       "<p>10692 rows × 18 columns</p>\n",
       "</div>"
      ],
      "text/plain": [
       "       VendorNumber                   VendorName  Brand  \\\n",
       "0              7245  PROXIMO SPIRITS INC.          3065   \n",
       "1              3960  DIAGEO NORTH AMERICA INC      6127   \n",
       "2              3924  HEAVEN HILL DISTILLERIES      9123   \n",
       "3              8004  SAZERAC CO INC                5683   \n",
       "4              9815  WINE GROUP INC                8527   \n",
       "...             ...                          ...    ...   \n",
       "10687          3960  DIAGEO NORTH AMERICA INC      3545   \n",
       "10688          3960  DIAGEO NORTH AMERICA INC      4261   \n",
       "10689         17035  PERNOD RICARD USA             8068   \n",
       "10690          4425        MARTIGNETTI COMPANIES   3405   \n",
       "10691          1128  BROWN-FORMAN CORP             1233   \n",
       "\n",
       "                       Description  ActualPrice  Volume  \\\n",
       "0         Three Olives Grape Vodka         0.99    50.0   \n",
       "1      The Club Strawbry Margarita         1.99   200.0   \n",
       "2                  Deep Eddy Vodka         0.99    50.0   \n",
       "3      Dr McGillicuddy's Apple Pie         0.49    50.0   \n",
       "4      Concannon Glen Ellen Wh Zin         4.99   750.0   \n",
       "...                            ...          ...     ...   \n",
       "10687              Ketel One Vodka        29.99  1750.0   \n",
       "10688       Capt Morgan Spiced Rum        22.99  1750.0   \n",
       "10689             Absolut 80 Proof        24.99  1750.0   \n",
       "10690        Tito's Handmade Vodka        28.99  1750.0   \n",
       "10691      Jack Daniels No 7 Black        36.99  1750.0   \n",
       "\n",
       "       TotalPurchaseQuantity  TotalPurchaseDollars  TotalSalesQuantity  \\\n",
       "0                          1                  0.71                86.0   \n",
       "1                          1                  1.47                72.0   \n",
       "2                          2                  1.48                 2.0   \n",
       "3                          6                  2.34               134.0   \n",
       "4                          2                  2.64                 5.0   \n",
       "...                      ...                   ...                 ...   \n",
       "10687                 138109            3023206.01            135838.0   \n",
       "10688                 201682            3261197.94            200412.0   \n",
       "10689                 187407            3418303.68            187140.0   \n",
       "10690                 164038            3804041.22            160247.0   \n",
       "10691                 145080            3811251.60            142049.0   \n",
       "\n",
       "       TotalSalesDollars  TotalSalesPrice  TotalExciseTax  FreightCost  \\\n",
       "0                  85.14            33.66            4.46     38994.78   \n",
       "1                 143.28            77.61           15.12    257032.07   \n",
       "2                   1.98             0.99            0.10     14069.87   \n",
       "3                  65.66             1.47            7.04     50293.62   \n",
       "4                  15.95            10.96            0.55     27100.41   \n",
       "...                  ...              ...             ...          ...   \n",
       "10687         4223107.62        545778.28       249587.83    257032.07   \n",
       "10688         4475972.88        420050.01       368242.80    257032.07   \n",
       "10689         4538120.60        461140.15       343854.07    123780.22   \n",
       "10690         4819073.49        561512.37       294438.66    144929.24   \n",
       "10691         5101919.51        672819.31       260999.20     68601.68   \n",
       "\n",
       "       GrossProfit  ProfitMargin  StockTurnover  SaleestoPurchaseRatio  \\\n",
       "0            84.43     99.166079      86.000000             119.915493   \n",
       "1           141.81     98.974037      72.000000              97.469388   \n",
       "2             0.50     25.252525       1.000000               1.337838   \n",
       "3            63.32     96.436186      22.333333              28.059829   \n",
       "4            13.31     83.448276       2.500000               6.041667   \n",
       "...            ...           ...            ...                    ...   \n",
       "10687   1199901.61     28.412764       0.983556               1.396897   \n",
       "10688   1214774.94     27.139908       0.993703               1.372493   \n",
       "10689   1119816.92     24.675786       0.998575               1.327594   \n",
       "10690   1015032.27     21.062810       0.976890               1.266830   \n",
       "10691   1290667.91     25.297693       0.979108               1.338647   \n",
       "\n",
       "       SalestoPurchaseRatio  \n",
       "0                119.915493  \n",
       "1                 97.469388  \n",
       "2                  1.337838  \n",
       "3                 28.059829  \n",
       "4                  6.041667  \n",
       "...                     ...  \n",
       "10687              1.396897  \n",
       "10688              1.372493  \n",
       "10689              1.327594  \n",
       "10690              1.266830  \n",
       "10691              1.338647  \n",
       "\n",
       "[10692 rows x 18 columns]"
      ]
     },
     "execution_count": 29,
     "metadata": {},
     "output_type": "execute_result"
    }
   ],
   "source": [
    "pd.read_sql_query(\"select * from vendor_sales_summary\",conn)"
   ]
  },
  {
   "cell_type": "code",
   "execution_count": null,
   "id": "2209ba52-17ba-45dd-9030-eff6bd0393df",
   "metadata": {},
   "outputs": [],
   "source": []
  }
 ],
 "metadata": {
  "kernelspec": {
   "display_name": "Python 3 (ipykernel)",
   "language": "python",
   "name": "python3"
  },
  "language_info": {
   "codemirror_mode": {
    "name": "ipython",
    "version": 3
   },
   "file_extension": ".py",
   "mimetype": "text/x-python",
   "name": "python",
   "nbconvert_exporter": "python",
   "pygments_lexer": "ipython3",
   "version": "3.12.7"
  }
 },
 "nbformat": 4,
 "nbformat_minor": 5
}
